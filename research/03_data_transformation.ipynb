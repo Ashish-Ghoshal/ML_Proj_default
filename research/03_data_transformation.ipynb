{
 "cells": [
  {
   "cell_type": "code",
   "execution_count": 2,
   "metadata": {},
   "outputs": [],
   "source": [
    "import os"
   ]
  },
  {
   "cell_type": "code",
   "execution_count": 3,
   "metadata": {},
   "outputs": [
    {
     "data": {
      "text/plain": [
       "'c:\\\\Users\\\\ASUS\\\\basic_python_ program\\\\iNeuron_end_full_project\\\\ML_Proj_default\\\\research'"
      ]
     },
     "execution_count": 3,
     "metadata": {},
     "output_type": "execute_result"
    }
   ],
   "source": [
    "%pwd"
   ]
  },
  {
   "cell_type": "code",
   "execution_count": 4,
   "metadata": {},
   "outputs": [],
   "source": [
    "os.chdir(\"../\")"
   ]
  },
  {
   "cell_type": "code",
   "execution_count": 5,
   "metadata": {},
   "outputs": [
    {
     "data": {
      "text/plain": [
       "'c:\\\\Users\\\\ASUS\\\\basic_python_ program\\\\iNeuron_end_full_project\\\\ML_Proj_default'"
      ]
     },
     "execution_count": 5,
     "metadata": {},
     "output_type": "execute_result"
    }
   ],
   "source": [
    "%pwd"
   ]
  },
  {
   "cell_type": "code",
   "execution_count": 12,
   "metadata": {},
   "outputs": [],
   "source": [
    "from dataclasses import dataclass\n",
    "from pathlib import Path\n",
    "\n",
    "\n",
    "@dataclass(frozen=True)\n",
    "class DataTransformationConfig:\n",
    "    root_dir: Path\n",
    "    data_path: Path\n",
    "    target_column: str"
   ]
  },
  {
   "cell_type": "code",
   "execution_count": 13,
   "metadata": {},
   "outputs": [],
   "source": [
    "from mlProject.constants import *\n",
    "from mlProject.utils.common import read_yaml, create_directories"
   ]
  },
  {
   "cell_type": "code",
   "execution_count": 14,
   "metadata": {},
   "outputs": [],
   "source": [
    "class ConfigurationManager:\n",
    "    def __init__(\n",
    "        self,\n",
    "        config_filepath = CONFIG_FILE_PATH,\n",
    "        params_filepath = PARAMS_FILE_PATH,\n",
    "        schema_filepath = SCHEMA_FILE_PATH):\n",
    "\n",
    "        self.config = read_yaml(config_filepath)\n",
    "        self.params = read_yaml(params_filepath)\n",
    "        self.schema = read_yaml(schema_filepath)\n",
    "\n",
    "        create_directories([self.config.artifacts_root])\n",
    "\n",
    "    \n",
    "    def get_data_transformation_config(self) -> DataTransformationConfig:\n",
    "        config = self.config.data_transformation\n",
    "        schema =  self.schema.TARGET_COLUMN\n",
    "\n",
    "        create_directories([config.root_dir])\n",
    "\n",
    "        data_transformation_config = DataTransformationConfig(\n",
    "            root_dir=config.root_dir,\n",
    "            data_path=config.data_path,\n",
    "            target_column = schema.name\n",
    "        )\n",
    "\n",
    "        return data_transformation_config\n"
   ]
  },
  {
   "cell_type": "code",
   "execution_count": 15,
   "metadata": {},
   "outputs": [],
   "source": [
    "import os\n",
    "from mlProject import logger\n",
    "from sklearn.model_selection import train_test_split\n",
    "import pandas as pd\n",
    "\n",
    "#-----------------------------My changes\n",
    "from sklearn.preprocessing import MinMaxScaler\n",
    "from sklearn.decomposition import PCA"
   ]
  },
  {
   "cell_type": "code",
   "execution_count": 33,
   "metadata": {},
   "outputs": [],
   "source": [
    "class DataTransformation:\n",
    "    def __init__(self, config: DataTransformationConfig):\n",
    "        self.config = config\n",
    "\n",
    "\n",
    "    \n",
    "    ## Note: You can add different data transformation techniques such as Scaler, PCA and all\n",
    "    #You can perform all kinds of EDA in ML cycle here before passing this data to the model\n",
    "\n",
    "    # I am only adding train_test_spliting cz this data is already cleaned up\n",
    "    def scaling(self,train_x,test_x):\n",
    "        # Standarizing with standard scaler\n",
    "        scaler_x = MinMaxScaler()\n",
    "        x_train = scaler_x.fit_transform(train_x)\n",
    "        x_test= scaler_x.transform(test_x)\n",
    "        \n",
    "        return x_train,x_test\n",
    "\n",
    "    def PCA(self,train_x,test_x):\n",
    "        pca = PCA(random_state=10)\n",
    "        pca.fit(train_x)\n",
    "        # Let's take 10 , which explains 98.5 %\n",
    "        pc_selected = PCA(n_components=10, random_state=10)\n",
    "        # This is the new transformed data\n",
    "        x_train_pc = pc_selected.fit_transform(train_x)\n",
    "        x_test_pc = pc_selected.transform(test_x)\n",
    "        \n",
    "        return x_train_pc,x_test_pc\n",
    "\n",
    "\n",
    "    def train_test_spliting(self):\n",
    "        data = pd.read_csv(self.config.data_path)\n",
    "        \n",
    "       \n",
    "\n",
    "        # Split the data into training and test sets. (0.75, 0.25) split.\n",
    "        train, test = train_test_split(data)\n",
    "        print(type(train))\n",
    "        \n",
    "        \n",
    "        train_x = train.drop([self.config.target_column], axis=1)\n",
    "        test_x = test.drop([self.config.target_column], axis=1)\n",
    "        train_y = train[[self.config.target_column]]\n",
    "        test_y = test[[self.config.target_column]]\n",
    "        print(type(train_y))\n",
    "        \n",
    "        train_x,test_x = self.scaling(train_x,test_x)\n",
    "        train_x,test_x = self.PCA(train_x,test_x)\n",
    "        \n",
    "        train_x = pd.DataFrame(train_x)\n",
    "        test_x = pd.DataFrame(test_x)\n",
    "        \n",
    "        train = train_x\n",
    "        train[self.config.target_column] = train_y\n",
    "        \n",
    "        test = test_x\n",
    "        test[self.config.target_column] = test_y\n",
    "        \n",
    "        print(train)\n",
    "\n",
    "        train.to_csv(os.path.join(self.config.root_dir, \"train.csv\"),index = False)\n",
    "        test.to_csv(os.path.join(self.config.root_dir, \"test.csv\"),index = False)\n",
    "    \n",
    "\n",
    "        logger.info(\"Splited data into training and test sets\")\n",
    "        logger.info(train.shape)\n",
    "        logger.info(test.shape)\n",
    "\n",
    "        print(train.shape)\n",
    "        print(test.shape)\n",
    "    \n",
    "   \n",
    "        \n"
   ]
  },
  {
   "cell_type": "code",
   "execution_count": 34,
   "metadata": {},
   "outputs": [
    {
     "name": "stdout",
     "output_type": "stream",
     "text": [
      "[2024-05-21 20:59:18,817: INFO: common: yaml file: config\\config.yaml loaded successfully]\n",
      "[2024-05-21 20:59:18,818: INFO: common: yaml file: params.yaml loaded successfully]\n",
      "[2024-05-21 20:59:18,821: INFO: common: yaml file: schema.yaml loaded successfully]\n",
      "[2024-05-21 20:59:18,822: INFO: common: created directory at: artifacts]\n",
      "[2024-05-21 20:59:18,823: INFO: common: created directory at: artifacts/data_transformation]\n",
      "<class 'pandas.core.frame.DataFrame'>\n",
      "<class 'pandas.core.frame.DataFrame'>\n",
      "             0         1         2         3         4         5         6  \\\n",
      "0    -0.329183  0.078859 -0.203239 -0.082555  0.170357 -0.100812 -0.092476   \n",
      "1     0.435290 -0.103901 -0.172480  0.234492 -0.108572  0.095934 -0.044130   \n",
      "2     0.256033 -0.118699 -0.068036 -0.123261  0.002880 -0.031499 -0.060958   \n",
      "3    -0.252369  0.125362 -0.136815  0.026815  0.052542 -0.055458 -0.093892   \n",
      "4     0.005348  0.329422  0.088771  0.170929  0.025429  0.019128 -0.213768   \n",
      "...        ...       ...       ...       ...       ...       ...       ...   \n",
      "1194  0.184166 -0.327354 -0.092533  0.148655 -0.027924 -0.009362  0.005666   \n",
      "1195  0.247887  0.077945  0.097116 -0.025896  0.123540  0.112326 -0.019564   \n",
      "1196 -0.288450 -0.074474  0.068501 -0.139607 -0.063537  0.073488  0.079934   \n",
      "1197  0.357698 -0.369445 -0.002908 -0.026641 -0.078413 -0.025202  0.067762   \n",
      "1198 -0.401669  0.038354  0.280307 -0.035460  0.131882 -0.007383 -0.216036   \n",
      "\n",
      "             7         8         9  quality  \n",
      "0    -0.016922  0.054866 -0.060502      5.0  \n",
      "1    -0.055128 -0.004997  0.034569      5.0  \n",
      "2    -0.011707  0.036649 -0.064009      5.0  \n",
      "3    -0.009348  0.039983  0.023374      NaN  \n",
      "4     0.055111  0.005149  0.069828      5.0  \n",
      "...        ...       ...       ...      ...  \n",
      "1194 -0.039721 -0.007915  0.014412      6.0  \n",
      "1195 -0.213945 -0.092432 -0.088455      6.0  \n",
      "1196  0.035524  0.019589 -0.024738      NaN  \n",
      "1197 -0.038655 -0.032421 -0.011064      6.0  \n",
      "1198  0.033117 -0.045649 -0.079629      6.0  \n",
      "\n",
      "[1199 rows x 11 columns]\n",
      "[2024-05-21 20:59:18,858: INFO: 123267399: Splited data into training and test sets]\n",
      "[2024-05-21 20:59:18,858: INFO: 123267399: (1199, 11)]\n",
      "[2024-05-21 20:59:18,859: INFO: 123267399: (400, 11)]\n",
      "(1199, 11)\n",
      "(400, 11)\n"
     ]
    }
   ],
   "source": [
    "try:\n",
    "    config = ConfigurationManager()\n",
    "    data_transformation_config = config.get_data_transformation_config()\n",
    "    data_transformation = DataTransformation(config=data_transformation_config)\n",
    "    data_transformation.train_test_spliting()\n",
    "except Exception as e:\n",
    "    raise e"
   ]
  },
  {
   "cell_type": "code",
   "execution_count": null,
   "metadata": {},
   "outputs": [],
   "source": []
  }
 ],
 "metadata": {
  "kernelspec": {
   "display_name": "Python 3.8.10 64-bit",
   "language": "python",
   "name": "python3"
  },
  "language_info": {
   "codemirror_mode": {
    "name": "ipython",
    "version": 3
   },
   "file_extension": ".py",
   "mimetype": "text/x-python",
   "name": "python",
   "nbconvert_exporter": "python",
   "pygments_lexer": "ipython3",
   "version": "3.8.19"
  },
  "orig_nbformat": 4,
  "vscode": {
   "interpreter": {
    "hash": "e7370f93d1d0cde622a1f8e1c04877d8463912d04d973331ad4851f04de6915a"
   }
  }
 },
 "nbformat": 4,
 "nbformat_minor": 2
}
